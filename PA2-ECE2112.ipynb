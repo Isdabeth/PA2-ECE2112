{
 "cells": [
  {
   "cell_type": "markdown",
   "metadata": {},
   "source": [
    "# Programming Assignment 2\n",
    "## Elisabeth Anne R. Gonzales - 2ECE-D"
   ]
  },
  {
   "cell_type": "markdown",
   "metadata": {},
   "source": [
    "### Normalization Problem"
   ]
  },
  {
   "cell_type": "code",
   "execution_count": null,
   "metadata": {},
   "outputs": [],
   "source": [
    "# Importing the numpy library for the whole notebook\n",
    "import numpy as np"
   ]
  },
  {
   "cell_type": "code",
   "execution_count": 6,
   "metadata": {},
   "outputs": [],
   "source": [
    "# Start of program\n",
    "# Creating a random 5x5 matrix\n",
    "X = np.random.random((5,5))\n",
    "\n",
    "mean = X.mean() # Element-wise mean\n",
    "std = X.std() # Element-wise standard deviation\n",
    "\n",
    "# Normalization formula\n",
    "X_normalized = (X - mean) / std\n",
    "\n",
    "# Saving the normalized matrix\n",
    "np.save('X_normalized.npy', X_normalized) \n",
    "# End of program"
   ]
  },
  {
   "cell_type": "code",
   "execution_count": null,
   "metadata": {},
   "outputs": [],
   "source": [
    "np.load('X_normalized.npy') # To load the saved resulting matrix"
   ]
  },
  {
   "cell_type": "markdown",
   "metadata": {},
   "source": [
    "### Divisible by 3 Problem"
   ]
  },
  {
   "cell_type": "code",
   "execution_count": 23,
   "metadata": {},
   "outputs": [],
   "source": [
    "# Start of program\n",
    "# Creating the matrix without manually inputting each number\n",
    "n = 10\n",
    "base_number = np.arange(1, n*n + 1) # Inputs numbers [1,101) <-- 101 is not included\n",
    "square_number = np.square(base_number)\n",
    "A = square_number.reshape((n,n)) # Reshapes the array into a 10x10 matrix and storing it to variable A\n",
    "\n",
    "# Finding the elements in the matrix that are divisible by 3 and stores them separately\n",
    "div_by_3 = A[A%3 == 0] \n",
    "\n",
    "# Saving the array\n",
    "np.save('div_by_3.npy', div_by_3)\n",
    "# End of program"
   ]
  },
  {
   "cell_type": "code",
   "execution_count": null,
   "metadata": {},
   "outputs": [],
   "source": [
    "np.load('div_by_3.npy') # To load the resulting array"
   ]
  }
 ],
 "metadata": {
  "kernelspec": {
   "display_name": "Python 3",
   "language": "python",
   "name": "python3"
  },
  "language_info": {
   "codemirror_mode": {
    "name": "ipython",
    "version": 3
   },
   "file_extension": ".py",
   "mimetype": "text/x-python",
   "name": "python",
   "nbconvert_exporter": "python",
   "pygments_lexer": "ipython3",
   "version": "3.11.9"
  }
 },
 "nbformat": 4,
 "nbformat_minor": 2
}
